{
  "nbformat": 4,
  "nbformat_minor": 0,
  "metadata": {
    "colab": {
      "name": "Python Bootcamp Graded Hands-on Exercise.ipynb",
      "provenance": [],
      "collapsed_sections": [],
      "authorship_tag": "ABX9TyNX7HXzeba5slAbmZMW4Fs3",
      "include_colab_link": true
    },
    "kernelspec": {
      "name": "python3",
      "display_name": "Python 3"
    },
    "language_info": {
      "name": "python"
    }
  },
  "cells": [
    {
      "cell_type": "markdown",
      "metadata": {
        "id": "view-in-github",
        "colab_type": "text"
      },
      "source": [
        "<a href=\"https://colab.research.google.com/github/asorgolden/python-basics-bootcamp/blob/main/Python_Bootcamp_Graded_Hands_on_Exercise.ipynb\" target=\"_parent\"><img src=\"https://colab.research.google.com/assets/colab-badge.svg\" alt=\"Open In Colab\"/></a>"
      ]
    },
    {
      "cell_type": "code",
      "execution_count": null,
      "metadata": {
        "id": "1NfFsynJ0vH4"
      },
      "outputs": [],
      "source": [
        ""
      ]
    },
    {
      "cell_type": "markdown",
      "source": [
        "# Task 1\n",
        "\n",
        "We have declared a tuple containing five same elements as following: T = (‘python’, ‘python’, ‘python’, ‘python’, ‘python’). Re-write the same code in an optimal/simple way that fetches the same result."
      ],
      "metadata": {
        "id": "LtN108h61UXR"
      }
    },
    {
      "cell_type": "code",
      "source": [
        "#Initially, this will return ('python', 'python', 'python', 'python', 'python')\n",
        "\n",
        "T = ('python', 'python', 'python', 'python', 'python')\n",
        "print(T)"
      ],
      "metadata": {
        "colab": {
          "base_uri": "https://localhost:8080/"
        },
        "id": "TPalfwQw1W8C",
        "outputId": "55ad4080-a44c-45ff-da3d-a683499e93d8"
      },
      "execution_count": null,
      "outputs": [
        {
          "output_type": "stream",
          "name": "stdout",
          "text": [
            "('python', 'python', 'python', 'python', 'python')\n"
          ]
        }
      ]
    },
    {
      "cell_type": "markdown",
      "source": [
        "Solution to Task 1"
      ],
      "metadata": {
        "id": "Fa0mxmppBe-c"
      }
    },
    {
      "cell_type": "code",
      "source": [
        "# A simpler way to write the code that fetches the same result is to multiply the string by 5. Hence,\n",
        "\n",
        "5*('python',)"
      ],
      "metadata": {
        "colab": {
          "base_uri": "https://localhost:8080/"
        },
        "id": "JJLwHmePBNCb",
        "outputId": "e41edaeb-5d13-46ca-c649-1601746ecb20"
      },
      "execution_count": null,
      "outputs": [
        {
          "output_type": "execute_result",
          "data": {
            "text/plain": [
              "('python', 'python', 'python', 'python', 'python')"
            ]
          },
          "metadata": {},
          "execution_count": 2
        }
      ]
    },
    {
      "cell_type": "markdown",
      "source": [
        "# Task 2\n",
        "\n",
        "Write code to print characters from a string that are present at an even index number. For example, if your input string is \"python\", the output characters will be (p,t,o)"
      ],
      "metadata": {
        "id": "jbZtfDuLB41s"
      }
    },
    {
      "cell_type": "markdown",
      "source": [
        "Solution to Task 2"
      ],
      "metadata": {
        "id": "AK-yWmu1Mn2p"
      }
    },
    {
      "cell_type": "code",
      "source": [
        "#Let our string be = \"demonstrate\"\n",
        "\n",
        "str=\"demonstrate\""
      ],
      "metadata": {
        "id": "X_I7QxDWMjQm"
      },
      "execution_count": null,
      "outputs": []
    },
    {
      "cell_type": "code",
      "source": [
        "#To print the characters from this string that are present at an even index number,\n",
        "\n",
        "print(*str[0::2])"
      ],
      "metadata": {
        "colab": {
          "base_uri": "https://localhost:8080/"
        },
        "id": "i0-YeSNONLRf",
        "outputId": "0e58af95-79a6-414f-ad2a-afbff3689cab"
      },
      "execution_count": null,
      "outputs": [
        {
          "output_type": "stream",
          "name": "stdout",
          "text": [
            "d m n t a e\n"
          ]
        }
      ]
    },
    {
      "cell_type": "markdown",
      "source": [
        "#######This is an extended string slicing operator that prints characters from index 0 to every other character whose index is divisible by 2 without a remainder.\n",
        "########This gives the list of even characters"
      ],
      "metadata": {
        "id": "8-cM82mKODL3"
      }
    },
    {
      "cell_type": "markdown",
      "source": [
        "# Task 3\n",
        "\n",
        "Write a function that calculates the average of the elements of the list:\n",
        "\n",
        "elements = [5, 7, 4, 9, 2]"
      ],
      "metadata": {
        "id": "lJgwqnsYTGPa"
      }
    },
    {
      "cell_type": "markdown",
      "source": [
        "Solution to Task 3"
      ],
      "metadata": {
        "id": "ZJDQPfnUh-LX"
      }
    },
    {
      "cell_type": "code",
      "source": [
        "def my_average(sum, len):\n",
        "    average=sum/len\n",
        "    print(average)"
      ],
      "metadata": {
        "id": "4B8Lg1eRTR33"
      },
      "execution_count": null,
      "outputs": []
    },
    {
      "cell_type": "code",
      "source": [
        "elements = [5, 7, 4, 9, 2]"
      ],
      "metadata": {
        "id": "HCArBr5rgjvF"
      },
      "execution_count": null,
      "outputs": []
    },
    {
      "cell_type": "code",
      "source": [
        "sum(elements)"
      ],
      "metadata": {
        "colab": {
          "base_uri": "https://localhost:8080/"
        },
        "id": "U7A8FMsqgtfb",
        "outputId": "c57d156a-5cf4-4d4a-98f0-07b369da211c"
      },
      "execution_count": null,
      "outputs": [
        {
          "output_type": "execute_result",
          "data": {
            "text/plain": [
              "27"
            ]
          },
          "metadata": {},
          "execution_count": 7
        }
      ]
    },
    {
      "cell_type": "code",
      "source": [
        "len(elements)"
      ],
      "metadata": {
        "colab": {
          "base_uri": "https://localhost:8080/"
        },
        "id": "DbCNETlKhdNo",
        "outputId": "5b5a19bd-b60f-4363-f9d4-1a2a6bb4569a"
      },
      "execution_count": null,
      "outputs": [
        {
          "output_type": "execute_result",
          "data": {
            "text/plain": [
              "5"
            ]
          },
          "metadata": {},
          "execution_count": 8
        }
      ]
    },
    {
      "cell_type": "code",
      "source": [
        "my_average(27, 5)"
      ],
      "metadata": {
        "colab": {
          "base_uri": "https://localhost:8080/"
        },
        "id": "yxVJZMaNhi3t",
        "outputId": "4354036c-1024-413d-ddb3-f773d22609e7"
      },
      "execution_count": null,
      "outputs": [
        {
          "output_type": "stream",
          "name": "stdout",
          "text": [
            "5.4\n"
          ]
        }
      ]
    },
    {
      "cell_type": "markdown",
      "source": [
        "# Task 4\n",
        "\n",
        "Write a code that takes a year as input and determines whether it is a leap year or not."
      ],
      "metadata": {
        "id": "zo9xs1e0iJKr"
      }
    },
    {
      "cell_type": "markdown",
      "source": [
        "Solution to task 4"
      ],
      "metadata": {
        "id": "ZVbLS5pJ7T5w"
      }
    },
    {
      "cell_type": "code",
      "source": [
        "import calendar\n",
        "my_admission_year=input(\"What year did you gain admission into college?\" \" \")\n",
        "calendar.isleap(2015)"
      ],
      "metadata": {
        "colab": {
          "base_uri": "https://localhost:8080/"
        },
        "id": "BTKRRk7Ht6EX",
        "outputId": "217d0efd-40bf-4da1-d39d-24b08a526310"
      },
      "execution_count": null,
      "outputs": [
        {
          "name": "stdout",
          "output_type": "stream",
          "text": [
            "What year did you gain admission into college? 2015\n"
          ]
        },
        {
          "output_type": "execute_result",
          "data": {
            "text/plain": [
              "False"
            ]
          },
          "metadata": {},
          "execution_count": 10
        }
      ]
    },
    {
      "cell_type": "markdown",
      "source": [
        "# Task 5\n",
        "\n",
        "Given a list of numbers (integers), find the sum of second maximum and second minimum in the following list.\n",
        "\n",
        "l = [21, 6, 12, 57, 35, 61]"
      ],
      "metadata": {
        "id": "ziHhO8SY7D3H"
      }
    },
    {
      "cell_type": "markdown",
      "source": [
        "Solution to Task 5"
      ],
      "metadata": {
        "id": "hevFq6II7dgS"
      }
    },
    {
      "cell_type": "code",
      "source": [
        "#Step 1: SORT\n",
        "\n",
        "l = [21, 6, 12, 57, 35, 61]\n",
        "l.sort()\n",
        "print(l)"
      ],
      "metadata": {
        "colab": {
          "base_uri": "https://localhost:8080/"
        },
        "id": "IGNO1z8m7iw3",
        "outputId": "03e1c51b-fcda-4a5b-97a4-004fa5c666b7"
      },
      "execution_count": null,
      "outputs": [
        {
          "output_type": "stream",
          "name": "stdout",
          "text": [
            "[6, 12, 21, 35, 57, 61]\n"
          ]
        }
      ]
    },
    {
      "cell_type": "code",
      "source": [
        "#Step 2: Define a function to calculate the sum of second maximum and second minimum\n",
        "\n",
        "def my_sum(Max2, Min2):\n",
        "    sum=Max2+Min2\n",
        "    print(sum)"
      ],
      "metadata": {
        "id": "eP4C-mtt_Bkq"
      },
      "execution_count": null,
      "outputs": []
    },
    {
      "cell_type": "code",
      "source": [
        "#Step 3: Print the value of second max and second min using string slicing\n",
        "\n",
        "l[-2]\n"
      ],
      "metadata": {
        "colab": {
          "base_uri": "https://localhost:8080/"
        },
        "id": "e7TpzcJyBHA6",
        "outputId": "c8237d79-fd70-4874-a258-3f5baa15c42f"
      },
      "execution_count": null,
      "outputs": [
        {
          "output_type": "execute_result",
          "data": {
            "text/plain": [
              "57"
            ]
          },
          "metadata": {},
          "execution_count": 13
        }
      ]
    },
    {
      "cell_type": "code",
      "source": [
        "l[1]"
      ],
      "metadata": {
        "colab": {
          "base_uri": "https://localhost:8080/"
        },
        "id": "_nu1YUNQDMbA",
        "outputId": "4fdce832-61db-4e3a-adf5-2fe54f4a4962"
      },
      "execution_count": null,
      "outputs": [
        {
          "output_type": "execute_result",
          "data": {
            "text/plain": [
              "12"
            ]
          },
          "metadata": {},
          "execution_count": 14
        }
      ]
    },
    {
      "cell_type": "code",
      "source": [
        "#Step 4: Create a variable for each as defined in the function above\n",
        "\n",
        "Max2=\"l[-2]\"\n",
        "Min2=\"l[1]\""
      ],
      "metadata": {
        "id": "cijQElIKEFT0"
      },
      "execution_count": null,
      "outputs": []
    },
    {
      "cell_type": "code",
      "source": [
        "#Step 5: Using the function, calculate the sum\n",
        "\n",
        "my_sum(57, 12)"
      ],
      "metadata": {
        "colab": {
          "base_uri": "https://localhost:8080/"
        },
        "id": "-dkhJdXqE1KQ",
        "outputId": "cbe357d4-c1c9-4348-d19b-7293a0eb036a"
      },
      "execution_count": null,
      "outputs": [
        {
          "output_type": "stream",
          "name": "stdout",
          "text": [
            "69\n"
          ]
        }
      ]
    }
  ]
}